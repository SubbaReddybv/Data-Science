{
  "nbformat": 4,
  "nbformat_minor": 0,
  "metadata": {
    "colab": {
      "provenance": [],
      "authorship_tag": "ABX9TyO0jKWLjSMsfMuez6cTlSWh",
      "include_colab_link": true
    },
    "kernelspec": {
      "name": "python3",
      "display_name": "Python 3"
    },
    "language_info": {
      "name": "python"
    }
  },
  "cells": [
    {
      "cell_type": "markdown",
      "metadata": {
        "id": "view-in-github",
        "colab_type": "text"
      },
      "source": [
        "<a href=\"https://colab.research.google.com/github/SubbaReddybv/Data-Science/blob/main/python_practice.ipynb\" target=\"_parent\"><img src=\"https://colab.research.google.com/assets/colab-badge.svg\" alt=\"Open In Colab\"/></a>"
      ]
    },
    {
      "cell_type": "code",
      "execution_count": null,
      "metadata": {
        "id": "b50RKXDPceqd"
      },
      "outputs": [],
      "source": [
        "#Yelp Dataset\n",
        "import numpy as np\n",
        "import pandas as pd\n",
        "import seaborn as sns"
      ]
    },
    {
      "cell_type": "code",
      "source": [
        "from google.colab import files\n",
        "files.upload()"
      ],
      "metadata": {
        "colab": {
          "base_uri": "https://localhost:8080/",
          "height": 92
        },
        "id": "YtLVq0U4-_PT",
        "outputId": "881bb918-0f94-401c-c8a8-f1c0d3d74db8"
      },
      "execution_count": null,
      "outputs": [
        {
          "output_type": "display_data",
          "data": {
            "text/plain": [
              "<IPython.core.display.HTML object>"
            ],
            "text/html": [
              "\n",
              "     <input type=\"file\" id=\"files-b9b17b6f-2106-4a72-8509-715224d9df7d\" name=\"files[]\" multiple disabled\n",
              "        style=\"border:none\" />\n",
              "     <output id=\"result-b9b17b6f-2106-4a72-8509-715224d9df7d\">\n",
              "      Upload widget is only available when the cell has been executed in the\n",
              "      current browser session. Please rerun this cell to enable.\n",
              "      </output>\n",
              "      <script>// Copyright 2017 Google LLC\n",
              "//\n",
              "// Licensed under the Apache License, Version 2.0 (the \"License\");\n",
              "// you may not use this file except in compliance with the License.\n",
              "// You may obtain a copy of the License at\n",
              "//\n",
              "//      http://www.apache.org/licenses/LICENSE-2.0\n",
              "//\n",
              "// Unless required by applicable law or agreed to in writing, software\n",
              "// distributed under the License is distributed on an \"AS IS\" BASIS,\n",
              "// WITHOUT WARRANTIES OR CONDITIONS OF ANY KIND, either express or implied.\n",
              "// See the License for the specific language governing permissions and\n",
              "// limitations under the License.\n",
              "\n",
              "/**\n",
              " * @fileoverview Helpers for google.colab Python module.\n",
              " */\n",
              "(function(scope) {\n",
              "function span(text, styleAttributes = {}) {\n",
              "  const element = document.createElement('span');\n",
              "  element.textContent = text;\n",
              "  for (const key of Object.keys(styleAttributes)) {\n",
              "    element.style[key] = styleAttributes[key];\n",
              "  }\n",
              "  return element;\n",
              "}\n",
              "\n",
              "// Max number of bytes which will be uploaded at a time.\n",
              "const MAX_PAYLOAD_SIZE = 100 * 1024;\n",
              "\n",
              "function _uploadFiles(inputId, outputId) {\n",
              "  const steps = uploadFilesStep(inputId, outputId);\n",
              "  const outputElement = document.getElementById(outputId);\n",
              "  // Cache steps on the outputElement to make it available for the next call\n",
              "  // to uploadFilesContinue from Python.\n",
              "  outputElement.steps = steps;\n",
              "\n",
              "  return _uploadFilesContinue(outputId);\n",
              "}\n",
              "\n",
              "// This is roughly an async generator (not supported in the browser yet),\n",
              "// where there are multiple asynchronous steps and the Python side is going\n",
              "// to poll for completion of each step.\n",
              "// This uses a Promise to block the python side on completion of each step,\n",
              "// then passes the result of the previous step as the input to the next step.\n",
              "function _uploadFilesContinue(outputId) {\n",
              "  const outputElement = document.getElementById(outputId);\n",
              "  const steps = outputElement.steps;\n",
              "\n",
              "  const next = steps.next(outputElement.lastPromiseValue);\n",
              "  return Promise.resolve(next.value.promise).then((value) => {\n",
              "    // Cache the last promise value to make it available to the next\n",
              "    // step of the generator.\n",
              "    outputElement.lastPromiseValue = value;\n",
              "    return next.value.response;\n",
              "  });\n",
              "}\n",
              "\n",
              "/**\n",
              " * Generator function which is called between each async step of the upload\n",
              " * process.\n",
              " * @param {string} inputId Element ID of the input file picker element.\n",
              " * @param {string} outputId Element ID of the output display.\n",
              " * @return {!Iterable<!Object>} Iterable of next steps.\n",
              " */\n",
              "function* uploadFilesStep(inputId, outputId) {\n",
              "  const inputElement = document.getElementById(inputId);\n",
              "  inputElement.disabled = false;\n",
              "\n",
              "  const outputElement = document.getElementById(outputId);\n",
              "  outputElement.innerHTML = '';\n",
              "\n",
              "  const pickedPromise = new Promise((resolve) => {\n",
              "    inputElement.addEventListener('change', (e) => {\n",
              "      resolve(e.target.files);\n",
              "    });\n",
              "  });\n",
              "\n",
              "  const cancel = document.createElement('button');\n",
              "  inputElement.parentElement.appendChild(cancel);\n",
              "  cancel.textContent = 'Cancel upload';\n",
              "  const cancelPromise = new Promise((resolve) => {\n",
              "    cancel.onclick = () => {\n",
              "      resolve(null);\n",
              "    };\n",
              "  });\n",
              "\n",
              "  // Wait for the user to pick the files.\n",
              "  const files = yield {\n",
              "    promise: Promise.race([pickedPromise, cancelPromise]),\n",
              "    response: {\n",
              "      action: 'starting',\n",
              "    }\n",
              "  };\n",
              "\n",
              "  cancel.remove();\n",
              "\n",
              "  // Disable the input element since further picks are not allowed.\n",
              "  inputElement.disabled = true;\n",
              "\n",
              "  if (!files) {\n",
              "    return {\n",
              "      response: {\n",
              "        action: 'complete',\n",
              "      }\n",
              "    };\n",
              "  }\n",
              "\n",
              "  for (const file of files) {\n",
              "    const li = document.createElement('li');\n",
              "    li.append(span(file.name, {fontWeight: 'bold'}));\n",
              "    li.append(span(\n",
              "        `(${file.type || 'n/a'}) - ${file.size} bytes, ` +\n",
              "        `last modified: ${\n",
              "            file.lastModifiedDate ? file.lastModifiedDate.toLocaleDateString() :\n",
              "                                    'n/a'} - `));\n",
              "    const percent = span('0% done');\n",
              "    li.appendChild(percent);\n",
              "\n",
              "    outputElement.appendChild(li);\n",
              "\n",
              "    const fileDataPromise = new Promise((resolve) => {\n",
              "      const reader = new FileReader();\n",
              "      reader.onload = (e) => {\n",
              "        resolve(e.target.result);\n",
              "      };\n",
              "      reader.readAsArrayBuffer(file);\n",
              "    });\n",
              "    // Wait for the data to be ready.\n",
              "    let fileData = yield {\n",
              "      promise: fileDataPromise,\n",
              "      response: {\n",
              "        action: 'continue',\n",
              "      }\n",
              "    };\n",
              "\n",
              "    // Use a chunked sending to avoid message size limits. See b/62115660.\n",
              "    let position = 0;\n",
              "    do {\n",
              "      const length = Math.min(fileData.byteLength - position, MAX_PAYLOAD_SIZE);\n",
              "      const chunk = new Uint8Array(fileData, position, length);\n",
              "      position += length;\n",
              "\n",
              "      const base64 = btoa(String.fromCharCode.apply(null, chunk));\n",
              "      yield {\n",
              "        response: {\n",
              "          action: 'append',\n",
              "          file: file.name,\n",
              "          data: base64,\n",
              "        },\n",
              "      };\n",
              "\n",
              "      let percentDone = fileData.byteLength === 0 ?\n",
              "          100 :\n",
              "          Math.round((position / fileData.byteLength) * 100);\n",
              "      percent.textContent = `${percentDone}% done`;\n",
              "\n",
              "    } while (position < fileData.byteLength);\n",
              "  }\n",
              "\n",
              "  // All done.\n",
              "  yield {\n",
              "    response: {\n",
              "      action: 'complete',\n",
              "    }\n",
              "  };\n",
              "}\n",
              "\n",
              "scope.google = scope.google || {};\n",
              "scope.google.colab = scope.google.colab || {};\n",
              "scope.google.colab._files = {\n",
              "  _uploadFiles,\n",
              "  _uploadFilesContinue,\n",
              "};\n",
              "})(self);\n",
              "</script> "
            ]
          },
          "metadata": {}
        },
        {
          "output_type": "stream",
          "name": "stdout",
          "text": [
            "Saving kaggle.json to kaggle.json\n"
          ]
        },
        {
          "output_type": "execute_result",
          "data": {
            "text/plain": [
              "{'kaggle.json': b'{\"username\":\"subbareddyb\",\"key\":\"45be370ed69ff38d376e8579526f4ea2\"}'}"
            ]
          },
          "metadata": {},
          "execution_count": 2
        }
      ]
    },
    {
      "cell_type": "code",
      "source": [
        "!ls -lha kaggle.json\n",
        "!pip install -q kaggle # installing the kaggle package\n",
        "!mkdir -p ~/.kaggle # creating .kaggle folder where the key should be placed\n",
        "!cp kaggle.json ~/.kaggle/ # move the key to the folder\n",
        "!pwd # checking the present working directory"
      ],
      "metadata": {
        "colab": {
          "base_uri": "https://localhost:8080/"
        },
        "id": "1JQxrtOH_JwG",
        "outputId": "e66c1f0e-3ba7-441a-e533-4d1704bb095c"
      },
      "execution_count": null,
      "outputs": [
        {
          "output_type": "stream",
          "name": "stdout",
          "text": [
            "-rw-r--r-- 1 root root 67 Feb 25 00:50 kaggle.json\n",
            "/content\n"
          ]
        }
      ]
    },
    {
      "cell_type": "code",
      "source": [
        "!chmod 600 ~/.kaggle/kaggle.json"
      ],
      "metadata": {
        "id": "A2vOONy7_S-c"
      },
      "execution_count": null,
      "outputs": []
    },
    {
      "cell_type": "code",
      "source": [
        "!kaggle datasets list"
      ],
      "metadata": {
        "colab": {
          "base_uri": "https://localhost:8080/"
        },
        "id": "zF4PaFfQ_YwS",
        "outputId": "d1b83540-2e22-459f-f309-396a1608b07f"
      },
      "execution_count": null,
      "outputs": [
        {
          "output_type": "stream",
          "name": "stdout",
          "text": [
            "ref                                                        title                                       size  lastUpdated          downloadCount  voteCount  usabilityRating  \n",
            "---------------------------------------------------------  -----------------------------------------  -----  -------------------  -------------  ---------  ---------------  \n",
            "themrityunjaypathak/covid-cases-and-deaths-worldwide       Covid Cases and Deaths WorldWide             8KB  2023-02-01 12:22:51           5814        174  1.0              \n",
            "datascientistanna/customers-dataset                        Shop Customer Data                          23KB  2023-02-07 18:42:21           4423        108  1.0              \n",
            "rajugc/imdb-top-250-movies-dataset                         IMDB Top 250 Movies Dataset                 52KB  2023-02-11 16:02:01           1990         53  1.0              \n",
            "ahsan81/hotel-reservations-classification-dataset          Hotel Reservations Dataset                 480KB  2023-01-04 12:50:31          13940        419  1.0              \n",
            "adityamishraml/nasaexoplanets                              NASA Exoplanets                            114KB  2023-02-15 18:12:58            752         30  1.0              \n",
            "georgejnr/used-and-new-cars-datasets                       Used and New Cars Datasets                   2MB  2023-02-09 12:37:06           1302         37  0.88235295       \n",
            "mattop/nutrition-physical-activity-and-obesity             Nutrition, Physical Activity, and Obesity    3MB  2023-02-12 15:24:33           1386         39  1.0              \n",
            "karkavelrajaj/amazon-sales-dataset                         Amazon Sales Dataset                         2MB  2023-01-17 06:21:15           7079        115  1.0              \n",
            "thedevastator/domestic-food-prices-after-covid-19          Domestic Food Prices After COVID-19          1MB  2023-02-13 01:45:15           1425         36  0.9411765        \n",
            "themrityunjaypathak/most-subscribed-1000-youtube-channels  Most Subscribed 1000 Youtube Channels       28KB  2023-01-21 14:42:05           4821        126  1.0              \n",
            "googleai/musiccaps                                         MusicCaps                                  793KB  2023-01-25 09:25:48           3404        275  0.9411765        \n",
            "anas123siddiqui/laptops                                    Laptops                                     44KB  2023-02-05 18:11:41           2060         50  1.0              \n",
            "ulrikthygepedersen/airlines-delay                          Airlines Delay                               6MB  2023-02-01 13:49:34           1251         32  1.0              \n",
            "anas123siddiqui/happiness-index-data                       Happiness Index data                         5KB  2023-02-13 16:17:17            763         34  1.0              \n",
            "antonkozyriev/game-recommendations-on-steam                Game Recommendations on Steam              112MB  2023-02-17 20:52:42            922         33  1.0              \n",
            "ulrikthygepedersen/speed-dating                            Speed Dating                               434KB  2023-02-10 08:58:51            592         30  1.0              \n",
            "thedevastator/high-tech-companies-on-nasdaq                High-Tech Companies on NASDAQ              383KB  2023-02-11 12:09:00            501         30  0.9411765        \n",
            "thedevastator/employee-attrition-and-factors               Employee Attrition and Factors              50KB  2023-02-11 04:31:57            970         34  1.0              \n",
            "tusharsingh1411/formula1-data-1950-2022                    🏎️ Formula1_GrandPrix_dataset               47KB  2023-02-09 20:18:07            601         34  1.0              \n",
            "slider2k/interest-rate                                      Interest Rate of Banks                      7KB  2023-02-08 11:38:08            621         27  0.9411765        \n"
          ]
        }
      ]
    },
    {
      "cell_type": "code",
      "source": [
        "!kaggle datasets download -d yelp-dataset/yelp-dataset"
      ],
      "metadata": {
        "colab": {
          "base_uri": "https://localhost:8080/"
        },
        "id": "8XbrBxNQ_jLn",
        "outputId": "55f34638-ee74-43ec-e8af-776276e45805"
      },
      "execution_count": null,
      "outputs": [
        {
          "output_type": "stream",
          "name": "stdout",
          "text": [
            "Downloading yelp-dataset.zip to /content\n",
            "100% 4.07G/4.07G [00:37<00:00, 166MB/s]\n",
            "100% 4.07G/4.07G [00:37<00:00, 116MB/s]\n"
          ]
        }
      ]
    },
    {
      "cell_type": "code",
      "source": [
        "import zipfile\n",
        "\n",
        "with zipfile.ZipFile('/content/yelp-dataset.zip') as zip:\n",
        "  zip.extractall()"
      ],
      "metadata": {
        "id": "LaRiy_rK_4nv"
      },
      "execution_count": null,
      "outputs": []
    },
    {
      "cell_type": "code",
      "source": [
        "import os\n",
        "os.remove('/content/yelp-dataset.zip')\n",
        "os.remove('/content/yelp_academic_dataset_user.json')\n",
        "os.remove('/content/yelp_academic_dataset_tip.json')\n",
        "os.remove('/content/yelp_academic_dataset_checkin.json')"
      ],
      "metadata": {
        "id": "irXUASU8A80H"
      },
      "execution_count": null,
      "outputs": []
    },
    {
      "cell_type": "code",
      "source": [
        "import json\n",
        "from sklearn.feature_extraction.text import CountVectorizer\n",
        "\n",
        "f= open('/content/yelp_academic_dataset_review.json')\n",
        "js=[]\n",
        "\n",
        "for i in range(10000):\n",
        "  js.append(json.loads(f.readline()))\n",
        "\n",
        "f.close()"
      ],
      "metadata": {
        "id": "ZawWGQtQFaWw"
      },
      "execution_count": null,
      "outputs": []
    },
    {
      "cell_type": "code",
      "source": [
        "df= pd.DataFrame(js)"
      ],
      "metadata": {
        "id": "jFfKbud0GKrs"
      },
      "execution_count": null,
      "outputs": []
    },
    {
      "cell_type": "code",
      "source": [
        "bow_counter=CountVectorizer(token_pattern='(?u)\\\\b\\\\w+\\\\b')\n",
        "bigram_counter=CountVectorizer(ngram_range=(2,2),token_pattern='(?u)\\\\b\\\\w+\\\\b')\n",
        "trigram_counter=CountVectorizer(ngram_range=(3,3),token_pattern='(?u)\\\\b\\\\w+\\\\b')"
      ],
      "metadata": {
        "id": "BrR0fMnZGdMY"
      },
      "execution_count": null,
      "outputs": []
    },
    {
      "cell_type": "code",
      "source": [
        "bow_counter.fit(df['text'])\n",
        "words=bow_counter.get_feature_names()\n",
        "bigram_counter.fit(df['text'])\n",
        "bi_words=bigram_counter.get_feature_names()\n",
        "trigram_counter.fit(df['text'])\n",
        "tri_words=trigram_counter.get_feature_names()"
      ],
      "metadata": {
        "id": "_yLBypr0HGWp",
        "colab": {
          "base_uri": "https://localhost:8080/"
        },
        "outputId": "5cab5b8c-9f43-4533-98c3-7195297a8d4a"
      },
      "execution_count": null,
      "outputs": [
        {
          "output_type": "stream",
          "name": "stderr",
          "text": [
            "/usr/local/lib/python3.8/dist-packages/sklearn/utils/deprecation.py:87: FutureWarning: Function get_feature_names is deprecated; get_feature_names is deprecated in 1.0 and will be removed in 1.2. Please use get_feature_names_out instead.\n",
            "  warnings.warn(msg, category=FutureWarning)\n"
          ]
        }
      ]
    },
    {
      "cell_type": "code",
      "source": [
        "print(len(words),len(bi_words),len(tri_words))"
      ],
      "metadata": {
        "colab": {
          "base_uri": "https://localhost:8080/"
        },
        "id": "_hN7HM-iHLUj",
        "outputId": "3e9e188d-4cf0-4714-c508-ec080b07ffef"
      },
      "execution_count": null,
      "outputs": [
        {
          "output_type": "stream",
          "name": "stdout",
          "text": [
            "24570 293936 689172\n"
          ]
        }
      ]
    },
    {
      "cell_type": "code",
      "source": [
        "words[:10]"
      ],
      "metadata": {
        "colab": {
          "base_uri": "https://localhost:8080/"
        },
        "id": "BC5GkiYsJcJO",
        "outputId": "810553af-a0d4-4135-98e5-fd702ad69326"
      },
      "execution_count": null,
      "outputs": [
        {
          "output_type": "execute_result",
          "data": {
            "text/plain": [
              "['0', '00', '000', '00000', '007', '00am', '00pm', '01', '02', '02pm']"
            ]
          },
          "metadata": {},
          "execution_count": 8
        }
      ]
    },
    {
      "cell_type": "code",
      "source": [
        "bi_words[:10]"
      ],
      "metadata": {
        "colab": {
          "base_uri": "https://localhost:8080/"
        },
        "id": "TyqVHk37KsAO",
        "outputId": "42369a7b-a93e-442c-ec1a-161e6fd0456f"
      },
      "execution_count": null,
      "outputs": [
        {
          "output_type": "execute_result",
          "data": {
            "text/plain": [
              "['0 0', '0 1', '0 10', '0 23g', '0 25', '0 3', '0 35', '0 5', '0 50', '0 75']"
            ]
          },
          "metadata": {},
          "execution_count": 9
        }
      ]
    },
    {
      "cell_type": "code",
      "source": [
        "tri_words[:10]"
      ],
      "metadata": {
        "colab": {
          "base_uri": "https://localhost:8080/"
        },
        "id": "1cVFr7PGK2zR",
        "outputId": "943cb598-7e4d-4f95-b8f3-6af4fe13a45e"
      },
      "execution_count": null,
      "outputs": [
        {
          "output_type": "execute_result",
          "data": {
            "text/plain": [
              "['0 0 for',\n",
              " '0 1 stars',\n",
              " '0 10 would',\n",
              " '0 23g of',\n",
              " '0 25 4',\n",
              " '0 25 7',\n",
              " '0 25 cent',\n",
              " '0 3 is',\n",
              " '0 3 miles',\n",
              " '0 35 charge']"
            ]
          },
          "metadata": {},
          "execution_count": 10
        }
      ]
    },
    {
      "cell_type": "code",
      "source": [
        "import nltk"
      ],
      "metadata": {
        "id": "rsiGytUjLMwe"
      },
      "execution_count": null,
      "outputs": []
    },
    {
      "cell_type": "code",
      "source": [
        "stemmer=nltk.stem.porter.PorterStemmer()\n",
        "stemmer.stem('glimpses')"
      ],
      "metadata": {
        "colab": {
          "base_uri": "https://localhost:8080/",
          "height": 35
        },
        "id": "ZRcOUUmuSmh9",
        "outputId": "0b489ea6-b3bb-4d3d-f2c1-3ab0d91cc23f"
      },
      "execution_count": null,
      "outputs": [
        {
          "output_type": "execute_result",
          "data": {
            "text/plain": [
              "'glimps'"
            ],
            "application/vnd.google.colaboratory.intrinsic+json": {
              "type": "string"
            }
          },
          "metadata": {},
          "execution_count": 12
        }
      ]
    },
    {
      "cell_type": "code",
      "source": [
        "import spacy\n",
        "nlp=spacy.load('en_core_web_sm')"
      ],
      "metadata": {
        "id": "rlBixgPHTARm",
        "colab": {
          "base_uri": "https://localhost:8080/"
        },
        "outputId": "dfc1770e-d915-4c57-fbcc-2e4ddfec71b6"
      },
      "execution_count": null,
      "outputs": [
        {
          "output_type": "stream",
          "name": "stderr",
          "text": [
            "/usr/local/lib/python3.8/dist-packages/torch/cuda/__init__.py:497: UserWarning: Can't initialize NVML\n",
            "  warnings.warn(\"Can't initialize NVML\")\n"
          ]
        }
      ]
    },
    {
      "cell_type": "code",
      "source": [
        "docs_df=df['text'].apply(nlp)"
      ],
      "metadata": {
        "id": "8qGOTOkeELJx"
      },
      "execution_count": null,
      "outputs": []
    },
    {
      "cell_type": "code",
      "source": [
        "for doc in docs_df[4]:\n",
        "  print(doc.text,doc.pos_,doc.tag_)"
      ],
      "metadata": {
        "colab": {
          "base_uri": "https://localhost:8080/"
        },
        "id": "AdFAytVlFP3W",
        "outputId": "604036a6-1315-4688-9421-5a9ed5e9b989"
      },
      "execution_count": null,
      "outputs": [
        {
          "output_type": "stream",
          "name": "stdout",
          "text": [
            "Cute VERB VB\n",
            "interior NOUN NN\n",
            "and CCONJ CC\n",
            "owner NOUN NN\n",
            "( PUNCT -LRB-\n",
            "? PUNCT .\n",
            ") PUNCT -RRB-\n",
            "gave VERB VBD\n",
            "us PRON PRP\n",
            "tour NOUN NN\n",
            "of ADP IN\n",
            "upcoming ADJ JJ\n",
            "patio NOUN NN\n",
            "/ SYM SYM\n",
            "rooftop PROPN NNP\n",
            "area NOUN NN\n",
            "which PRON WDT\n",
            "will AUX MD\n",
            "be AUX VB\n",
            "great ADJ JJ\n",
            "on ADP IN\n",
            "beautiful ADJ JJ\n",
            "days NOUN NNS\n",
            "like ADP IN\n",
            "today NOUN NN\n",
            ". PUNCT .\n",
            "Cheese NOUN NN\n",
            "curds NOUN NNS\n",
            "were AUX VBD\n",
            "very ADV RB\n",
            "good ADJ JJ\n",
            "and CCONJ CC\n",
            "very ADV RB\n",
            "filling NOUN NN\n",
            ". PUNCT .\n",
            "Really ADV RB\n",
            "like ADP IN\n",
            "that SCONJ IN\n",
            "sandwiches NOUN NNS\n",
            "come VERB VBP\n",
            "w NOUN NN\n",
            "salad NOUN NN\n",
            ", PUNCT ,\n",
            "esp ADV RB\n",
            "after ADP IN\n",
            "eating VERB VBG\n",
            "too ADV RB\n",
            "many ADJ JJ\n",
            "curds NOUN NNS\n",
            "! PUNCT .\n",
            "Had AUX VBD\n",
            "the DET DT\n",
            "onion NOUN NN\n",
            ", PUNCT ,\n",
            "gruyere ADJ JJ\n",
            ", PUNCT ,\n",
            "tomato NOUN NN\n",
            "sandwich NOUN NN\n",
            ". PUNCT .\n",
            "Was AUX VBD\n",
            "n't PART RB\n",
            "too ADV RB\n",
            "much ADJ JJ\n",
            "cheese NOUN NN\n",
            "which PRON WDT\n",
            "I PRON PRP\n",
            "liked VERB VBD\n",
            ". PUNCT .\n",
            "Needed VERB VBD\n",
            "something PRON NN\n",
            "else ADV RB\n",
            "... PUNCT :\n",
            "pepper NOUN NN\n",
            "jelly ADV RB\n",
            "maybe ADV RB\n",
            ". PUNCT .\n",
            "Would AUX MD\n",
            "like VERB VB\n",
            "to PART TO\n",
            "see VERB VB\n",
            "more ADJ JJR\n",
            "menu NOUN NN\n",
            "options NOUN NNS\n",
            "added VERB VBN\n",
            "such ADJ JJ\n",
            "as ADP IN\n",
            "salads NOUN NNS\n",
            "w ADP IN\n",
            "fun ADJ JJ\n",
            "cheeses NOUN NNS\n",
            ". PUNCT .\n",
            "Lots NOUN NNS\n",
            "of ADP IN\n",
            "beer NOUN NN\n",
            "and CCONJ CC\n",
            "wine NOUN NN\n",
            "as ADV RB\n",
            "well ADV RB\n",
            "as ADP IN\n",
            "limited ADJ JJ\n",
            "cocktails NOUN NNS\n",
            ". PUNCT .\n",
            "Next ADJ JJ\n",
            "time NOUN NN\n",
            "I PRON PRP\n",
            "will AUX MD\n",
            "try VERB VB\n",
            "one NUM CD\n",
            "of ADP IN\n",
            "the DET DT\n",
            "draft NOUN NN\n",
            "wines NOUN NNS\n",
            ". PUNCT .\n"
          ]
        }
      ]
    },
    {
      "cell_type": "code",
      "source": [
        "print([chunk for chunk in docs_df[4].noun_chunks])"
      ],
      "metadata": {
        "colab": {
          "base_uri": "https://localhost:8080/"
        },
        "id": "iS89pJbhHuwu",
        "outputId": "7c37285f-16ef-4cd9-90b2-0694a91b30bb"
      },
      "execution_count": null,
      "outputs": [
        {
          "output_type": "stream",
          "name": "stdout",
          "text": [
            "[interior, owner, us, tour, upcoming patio/rooftop area, which, beautiful days, today, Cheese curds, sandwiches, w salad, too many curds, the onion, too much cheese, which, I, something, more menu options, salads, w fun cheeses, Lots, beer, wine, limited cocktails, I, the draft wines]\n"
          ]
        }
      ]
    },
    {
      "cell_type": "code",
      "source": [
        "blob_df=df['text'].apply(TextBlob)"
      ],
      "metadata": {
        "colab": {
          "base_uri": "https://localhost:8080/",
          "height": 168
        },
        "id": "DVIKPfCfMHqQ",
        "outputId": "511f9acf-003a-4319-e525-ff93d0712361"
      },
      "execution_count": null,
      "outputs": [
        {
          "output_type": "error",
          "ename": "NameError",
          "evalue": "ignored",
          "traceback": [
            "\u001b[0;31m---------------------------------------------------------------------------\u001b[0m",
            "\u001b[0;31mNameError\u001b[0m                                 Traceback (most recent call last)",
            "\u001b[0;32m<ipython-input-17-ef5162fe47b8>\u001b[0m in \u001b[0;36m<module>\u001b[0;34m\u001b[0m\n\u001b[0;32m----> 1\u001b[0;31m \u001b[0mblob_df\u001b[0m\u001b[0;34m=\u001b[0m\u001b[0mdf\u001b[0m\u001b[0;34m[\u001b[0m\u001b[0;34m'text'\u001b[0m\u001b[0;34m]\u001b[0m\u001b[0;34m.\u001b[0m\u001b[0mapply\u001b[0m\u001b[0;34m(\u001b[0m\u001b[0mTextBlob\u001b[0m\u001b[0;34m)\u001b[0m\u001b[0;34m\u001b[0m\u001b[0;34m\u001b[0m\u001b[0m\n\u001b[0m",
            "\u001b[0;31mNameError\u001b[0m: name 'TextBlob' is not defined"
          ]
        }
      ]
    },
    {
      "cell_type": "code",
      "source": [
        "biz_f=open('/content/yelp_academic_dataset_business.json')"
      ],
      "metadata": {
        "id": "g6m-nSdFNKSp"
      },
      "execution_count": null,
      "outputs": []
    },
    {
      "cell_type": "code",
      "source": [
        "biz_df=pd.DataFrame([json.loads(x) for x in biz_f.readlines()])\n",
        "biz_f.close()"
      ],
      "metadata": {
        "id": "GIQwNNw1RlRR"
      },
      "execution_count": null,
      "outputs": []
    },
    {
      "cell_type": "code",
      "source": [
        "rev_f=open('/content/yelp_academic_dataset_review.json')\n",
        "vew_df=pd.DataFrame([json.loads(x) for x in rev_f.readlines()])\n",
        "rev_f.close()"
      ],
      "metadata": {
        "id": "kifKGxgdR4FT"
      },
      "execution_count": null,
      "outputs": []
    },
    {
      "cell_type": "code",
      "source": [],
      "metadata": {
        "id": "CySuxKM1SMeC"
      },
      "execution_count": null,
      "outputs": []
    }
  ]
}